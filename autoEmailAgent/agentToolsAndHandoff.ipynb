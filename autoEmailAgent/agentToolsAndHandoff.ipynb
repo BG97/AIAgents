{
 "cells": [
  {
   "cell_type": "code",
   "execution_count": 40,
   "metadata": {},
   "outputs": [],
   "source": [
    "from dotenv import load_dotenv\n",
    "from agents import Agent, Runner, trace, function_tool\n",
    "from openai.types.responses import ResponseTextDeltaEvent\n",
    "from typing import Dict\n",
    "import sendgrid\n",
    "import os\n",
    "from sendgrid.helpers.mail import Mail, Email, To, Content\n",
    "import asyncio\n",
    "\n"
   ]
  },
  {
   "cell_type": "code",
   "execution_count": 41,
   "metadata": {},
   "outputs": [
    {
     "data": {
      "text/plain": [
       "True"
      ]
     },
     "execution_count": 41,
     "metadata": {},
     "output_type": "execute_result"
    }
   ],
   "source": [
    "load_dotenv(override=True)"
   ]
  },
  {
   "cell_type": "code",
   "execution_count": 6,
   "metadata": {},
   "outputs": [],
   "source": [
    "name = 'Benny'\n",
    "title = 'LLM Engineer'\n",
    "skills = 'AI Agents'"
   ]
  },
  {
   "cell_type": "code",
   "execution_count": 7,
   "metadata": {},
   "outputs": [],
   "source": [
    "instructions1 = f\"You are a job-seeking professional named {name}, applying for roles as a {title}. \\\n",
    "You are reaching out to an HR representative to introduce yourself. \\\n",
    "You highlight your strengths in {skills}, and write polite, professional outreach emails that are easy to understand and well-formatted.\"\n",
    "\n",
    "instructions2 = f\"You are a technically strong candidate named {name}, currently pursuing opportunities as a {title}. \\\n",
    "You are writing directly to a hiring manager, emphasizing your hands-on experience with {skills}. \\\n",
    "You write clear, confident, technically relevant messages that convey both competence and motivation.\"\n",
    "\n",
    "instructions3 = f\"You are a job-seeking professional named {name}, applying for roles as a {title}. \\\n",
    "You are introducing yourself to someone who may be connected to the hiring process, though their role is unclear. \\\n",
    "You maintain a neutral, respectful, and warm tone. You briefly mention your experience with {skills} and express openness to connect or discuss opportunities.\""
   ]
  },
  {
   "cell_type": "code",
   "execution_count": 11,
   "metadata": {},
   "outputs": [],
   "source": [
    "writer_agent1 = Agent(\n",
    "    name=\"Professional Outreach Agent\",\n",
    "    instructions=instructions1,\n",
    "    model=\"gpt-4.1-nano\"\n",
    ")\n",
    "\n",
    "writer_agent2 = Agent(\n",
    "    name=\"Technical Hiring Manager Agent\",\n",
    "    instructions=instructions2,\n",
    "    model=\"gpt-4.1-nano\"\n",
    ")\n",
    "\n",
    "writer_agent3 = Agent(\n",
    "    name=\"General Introduction Agent\",\n",
    "    instructions=instructions3,\n",
    "    model=\"gpt-4.1-nano\"\n",
    ")\n"
   ]
  },
  {
   "cell_type": "code",
   "execution_count": 9,
   "metadata": {},
   "outputs": [
    {
     "name": "stdout",
     "output_type": "stream",
     "text": [
      "Subject: Introduction and Interest in LLM Engineer Position\n",
      "\n",
      "Dear [Hiring Manager's Name],\n",
      "\n",
      "I hope this message finds you well. My name is Benny, and I am reaching out to express my interest in the LLM Engineer position at [Company Name].\n",
      "\n",
      "With a strong background in developing and deploying AI agents, I am passionate about advancing language model applications and creating intelligent solutions that enhance user experience. I am confident that my skills in natural language processing, model fine-tuning, and integration would be a valuable addition to your team.\n",
      "\n",
      "I would be delighted to discuss how my experience aligns with your needs and explore potential opportunities to contribute to [Company Name]. Thank you very much for considering my application. I look forward to the possibility of working together.\n",
      "\n",
      "Warm regards,  \n",
      "Benny  \n",
      "[Your LinkedIn profile or contact information]"
     ]
    }
   ],
   "source": [
    "\n",
    "result = Runner.run_streamed(writer_agent1, input=\"Write a introduction email\")\n",
    "async for event in result.stream_events():\n",
    "    if event.type == \"raw_response_event\" and isinstance(event.data, ResponseTextDeltaEvent):\n",
    "        print(event.data.delta, end=\"\", flush=True)"
   ]
  },
  {
   "cell_type": "code",
   "execution_count": null,
   "metadata": {},
   "outputs": [
    {
     "name": "stdout",
     "output_type": "stream",
     "text": [
      "Subject: Introducing Benny – Interested in LLM Engineer Role\n",
      "\n",
      "Dear [Hiring Manager’s Name],  \n",
      "\n",
      "I hope this message finds you well. My name is Benny, and I am excited to express my interest in the LLM Engineer position at [Company Name]. With a strong background in developing and deploying AI Agents, I am confident in my ability to contribute effectively to your team’s innovative projects.\n",
      "\n",
      "Throughout my experience, I have specialized in designing sophisticated language models and integrating them into practical applications. I am passionate about advancing natural language understanding and creating systems that are intelligent, reliable, and user-friendly.\n",
      "\n",
      "I would love the opportunity to discuss how my skills and background can align with your team’s goals. Thank you very much for considering my application. I look forward to the possibility of collaborating with you.\n",
      "\n",
      "Warm regards,  \n",
      "Benny  \n",
      "[Your Contact Information]  \n",
      "[LinkedIn Profile or Portfolio, if applicable]\n",
      "\n",
      "\n",
      "Subject: Enthusiastic LLM Engineer with Hands-On AI Agent Experience\n",
      "\n",
      "Dear [Hiring Manager's Name],\n",
      "\n",
      "I hope this message finds you well. My name is Benny, and I am excited to express my interest in the LLM Engineer position at [Company Name]. With extensive hands-on experience developing and deploying AI Agents, I am confident in my ability to contribute effectively to your team’s innovative projects.\n",
      "\n",
      "In my previous roles, I’ve built complex AI agents leveraging large language models, focusing on creating scalable, efficient, and context-aware solutions. I am well-versed in integrating LLMs with structured workflows, fine-tuning for domain-specific tasks, and optimizing response accuracy and latency. My technical expertise includes Python, PyTorch, and relevant NLP frameworks, complemented by a strong understanding of model interpretability and safety considerations.\n",
      "\n",
      "I am particularly drawn to [Company Name] because of your pioneering work in [specific field or project], and I am eager to bring my skills in AI engineering to help push those boundaries further.\n",
      "\n",
      "Thank you for considering my application. I would love the opportunity to discuss how my experience with AI Agents can align with your team’s goals.\n",
      "\n",
      "Looking forward to connecting.\n",
      "\n",
      "Best regards,  \n",
      "Benny  \n",
      "[Your LinkedIn Profile]  \n",
      "[Your Contact Information]\n",
      "\n",
      "\n",
      "Subject: Exploring Opportunities in LLM Engineering\n",
      "\n",
      "Dear [Hiring Manager's Name],\n",
      "\n",
      "I hope this message finds you well. My name is Benny, and I am a passionate professional with experience in developing and deploying AI agents and large language models. I am excited about the possibility of contributing to your team as an LLM Engineer.\n",
      "\n",
      "I would welcome the opportunity to connect and learn more about any upcoming roles or projects where my skills could be valuable. Thank you very much for your time and consideration. I look forward to the possibility of speaking with you.\n",
      "\n",
      "Warm regards,  \n",
      "Benny  \n",
      "[Your Contact Information]  \n",
      "[Optional: LinkedIn or Portfolio Link]\n",
      "\n",
      "\n"
     ]
    }
   ],
   "source": [
    "message = \"Write a introduction email\"\n",
    "\n",
    "with trace(\"Parallel emails to hiring managers\"):\n",
    "    results = await asyncio.gather(\n",
    "        Runner.run(writer_agent1, message),\n",
    "        Runner.run(writer_agent2, message),\n",
    "        Runner.run(writer_agent3, message),\n",
    "    )\n",
    "\n",
    "outputs = [result.final_output for result in results]\n",
    "\n",
    "for output in outputs:\n",
    "    print(output + \"\\n\\n\")\n"
   ]
  },
  {
   "cell_type": "code",
   "execution_count": 16,
   "metadata": {},
   "outputs": [],
   "source": [
    "writer_picker = Agent(\n",
    "    name=\"writer_picker\",\n",
    "    instructions=\"You are evaluating self-introduction emails. \\\n",
    "You are given multiple full email drafts (including subject and body). \\\n",
    "Pick the one you are most likely to respond to if you were a hiring manager or recruiter. \\\n",
    "Reply with the entire selected email content (subject and full body), and nothing else. \\\n",
    "Do not summarize. Do not explain. Just return the selected email verbatim.\",\n",
    "    model=\"gpt-4.1-nano\"\n",
    ")\n"
   ]
  },
  {
   "cell_type": "code",
   "execution_count": 17,
   "metadata": {},
   "outputs": [
    {
     "name": "stdout",
     "output_type": "stream",
     "text": [
      "Best introduction email:\n",
      "Subject: Enthusiastic LLM Engineer with Hands-on AI Agent Experience\n",
      "\n",
      "Dear [Hiring Manager's Name],\n",
      "\n",
      "I hope this message finds you well. My name is Benny, and I am currently pursuing opportunities as an LLM Engineer. With a strong technical background and hands-on experience developing and deploying AI Agents, I am excited about the prospect of contributing to your team.\n",
      "\n",
      "In my recent projects, I’ve worked extensively with large language models, fine-tuning them for specialized tasks, and integrating them into multi-agent systems to improve robustness and contextual understanding. I am passionate about pushing the boundaries of what AI agents can achieve and am eager to bring my expertise in model development, system architecture, and problem-solving to [Company Name].\n",
      "\n",
      "I would love the opportunity to discuss how my skills and experiences align with your team's goals. Thank you for considering my application. I look forward to the possibility of connecting.\n",
      "\n",
      "Best regards,  \n",
      "Benny  \n",
      "[Your Contact Information]\n"
     ]
    }
   ],
   "source": [
    "message = \"Write a introduction email\"\n",
    "\n",
    "with trace(\"Selection from writers\"):\n",
    "    results = await asyncio.gather(\n",
    "        Runner.run(writer_agent1, message),\n",
    "        Runner.run(writer_agent2, message),\n",
    "        Runner.run(writer_agent3, message),\n",
    "    )\n",
    "    outputs = [result.final_output for result in results]\n",
    "\n",
    "    emails = \"Introduction emails:\\n\\n\".join(outputs)\n",
    "\n",
    "    best = await Runner.run(writer_picker, emails)\n",
    "\n",
    "    print(f\"Best introduction email:\\n{best.final_output}\")\n"
   ]
  },
  {
   "cell_type": "code",
   "execution_count": 18,
   "metadata": {},
   "outputs": [],
   "source": [
    "writer_agent1 = Agent(\n",
    "    name=\"Professional Outreach Agent\",\n",
    "    instructions=instructions1,\n",
    "    model=\"gpt-4.1-nano\"\n",
    ")\n",
    "\n",
    "writer_agent2 = Agent(\n",
    "    name=\"Technical Hiring Manager Agent\",\n",
    "    instructions=instructions2,\n",
    "    model=\"gpt-4.1-nano\"\n",
    ")\n",
    "\n",
    "writer_agent3 = Agent(\n",
    "    name=\"General Introduction Agent\",\n",
    "    instructions=instructions3,\n",
    "    model=\"gpt-4.1-nano\"\n",
    ")"
   ]
  },
  {
   "cell_type": "code",
   "execution_count": 20,
   "metadata": {},
   "outputs": [
    {
     "data": {
      "text/plain": [
       "Agent(name='Professional Outreach Agent', instructions='You are a job-seeking professional named Benny, applying for roles as a LLM Engineer. You are reaching out to an HR representative to introduce yourself. You highlight your strengths in AI Agents, and write polite, professional outreach emails that are easy to understand and well-formatted.', handoff_description=None, handoffs=[], model='gpt-4.1-nano', model_settings=ModelSettings(temperature=None, top_p=None, frequency_penalty=None, presence_penalty=None, tool_choice=None, parallel_tool_calls=None, truncation=None, max_tokens=None, reasoning=None, metadata=None, store=None, include_usage=None, extra_query=None, extra_body=None, extra_headers=None), tools=[], mcp_servers=[], mcp_config={}, input_guardrails=[], output_guardrails=[], output_type=None, hooks=None, tool_use_behavior='run_llm_again', reset_tool_choice=True)"
      ]
     },
     "execution_count": 20,
     "metadata": {},
     "output_type": "execute_result"
    }
   ],
   "source": [
    "writer_agent1"
   ]
  },
  {
   "cell_type": "code",
   "execution_count": 42,
   "metadata": {},
   "outputs": [],
   "source": [
    "@function_tool\n",
    "def send_email(body: str):\n",
    "    \"\"\" Send out an email with the given body to all target recipients \"\"\"\n",
    "    sg = sendgrid.SendGridAPIClient(api_key=os.environ.get('SENDGRID_API_KEY'))\n",
    "    from_email = Email(\"benny.guan97@gmail.com\")  \n",
    "    to_email = To(\"benny.guan97@gmail.com\")  \n",
    "    content = Content(\"text/plain\", body)\n",
    "    mail = Mail(from_email, to_email, \"writer email\", content).get()\n",
    "    response = sg.client.mail.send.post(request_body=mail)\n",
    "    return {\"status\": \"success\"}"
   ]
  },
  {
   "cell_type": "code",
   "execution_count": 29,
   "metadata": {},
   "outputs": [
    {
     "data": {
      "text/plain": [
       "FunctionTool(name='send_email', description='Send out an email with the given body to all target recipients', params_json_schema={'properties': {'body': {'title': 'Body', 'type': 'string'}}, 'required': ['body'], 'title': 'send_email_args', 'type': 'object', 'additionalProperties': False}, on_invoke_tool=<function function_tool.<locals>._create_function_tool.<locals>._on_invoke_tool at 0x000001C6D7C2B380>, strict_json_schema=True)"
      ]
     },
     "execution_count": 29,
     "metadata": {},
     "output_type": "execute_result"
    }
   ],
   "source": [
    "send_email"
   ]
  },
  {
   "cell_type": "code",
   "execution_count": 30,
   "metadata": {},
   "outputs": [
    {
     "data": {
      "text/plain": [
       "FunctionTool(name='writer_agent1', description='Write a Introduction email', params_json_schema={'properties': {'input': {'title': 'Input', 'type': 'string'}}, 'required': ['input'], 'title': 'writer_agent1_args', 'type': 'object', 'additionalProperties': False}, on_invoke_tool=<function function_tool.<locals>._create_function_tool.<locals>._on_invoke_tool at 0x000001C6D7C2B920>, strict_json_schema=True)"
      ]
     },
     "execution_count": 30,
     "metadata": {},
     "output_type": "execute_result"
    }
   ],
   "source": [
    "tool1 = writer_agent1.as_tool(tool_name=\"writer_agent1\", tool_description=\"Write a Introduction email\")\n",
    "tool1"
   ]
  },
  {
   "cell_type": "code",
   "execution_count": 43,
   "metadata": {},
   "outputs": [
    {
     "data": {
      "text/plain": [
       "[FunctionTool(name='writer_agent1', description='Write a introduction email', params_json_schema={'properties': {'input': {'title': 'Input', 'type': 'string'}}, 'required': ['input'], 'title': 'writer_agent1_args', 'type': 'object', 'additionalProperties': False}, on_invoke_tool=<function function_tool.<locals>._create_function_tool.<locals>._on_invoke_tool at 0x000001C6D7C2B9C0>, strict_json_schema=True),\n",
       " FunctionTool(name='writer_agent2', description='Write a introduction email', params_json_schema={'properties': {'input': {'title': 'Input', 'type': 'string'}}, 'required': ['input'], 'title': 'writer_agent2_args', 'type': 'object', 'additionalProperties': False}, on_invoke_tool=<function function_tool.<locals>._create_function_tool.<locals>._on_invoke_tool at 0x000001C6D7CF6CA0>, strict_json_schema=True),\n",
       " FunctionTool(name='writer_agent3', description='Write a introduction email', params_json_schema={'properties': {'input': {'title': 'Input', 'type': 'string'}}, 'required': ['input'], 'title': 'writer_agent3_args', 'type': 'object', 'additionalProperties': False}, on_invoke_tool=<function function_tool.<locals>._create_function_tool.<locals>._on_invoke_tool at 0x000001C6D7CF6700>, strict_json_schema=True),\n",
       " FunctionTool(name='send_email', description='Send out an email with the given body to all target recipients', params_json_schema={'properties': {'body': {'title': 'Body', 'type': 'string'}}, 'required': ['body'], 'title': 'send_email_args', 'type': 'object', 'additionalProperties': False}, on_invoke_tool=<function function_tool.<locals>._create_function_tool.<locals>._on_invoke_tool at 0x000001C6D346B9C0>, strict_json_schema=True)]"
      ]
     },
     "execution_count": 43,
     "metadata": {},
     "output_type": "execute_result"
    }
   ],
   "source": [
    "description = \"Write a introduction email\"\n",
    "\n",
    "tool1 = writer_agent1.as_tool(tool_name=\"writer_agent1\", tool_description=description)\n",
    "tool2 = writer_agent2.as_tool(tool_name=\"writer_agent2\", tool_description=description)\n",
    "tool3 = writer_agent3.as_tool(tool_name=\"writer_agent3\", tool_description=description)\n",
    "\n",
    "tools = [tool1, tool2, tool3, send_email]\n",
    "\n",
    "tools"
   ]
  },
  {
   "cell_type": "code",
   "execution_count": 44,
   "metadata": {},
   "outputs": [],
   "source": [
    "instructions = \"You are a writing manager assisting job applicants. \\\n",
    "You do not write introduction emails yourself; you always use the tools provided. \\\n",
    "You try all 3 writer_agent tools once before choosing the best one. \\\n",
    "You pick the single best introduction email and use the send_email tool to send that email (and only that email) to the user.\"\n",
    "\n",
    "\n",
    "writer_manager = Agent(\n",
    "    name=\"Writer Manager\",\n",
    "    instructions=instructions,\n",
    "    tools=tools,\n",
    "    model=\"gpt-4o-mini\"\n",
    ")\n",
    "message = \"Write an introduction email to a hiring manager\"\n",
    "\n",
    "with trace(\"Writer manager\"):\n",
    "    result = await Runner.run(writer_manager, message)\n"
   ]
  },
  {
   "cell_type": "code",
   "execution_count": 36,
   "metadata": {},
   "outputs": [
    {
     "name": "stdout",
     "output_type": "stream",
     "text": [
      "RunResult:\n",
      "- Last agent: Agent(name=\"Writer Manager\", ...)\n",
      "- Final output (str):\n",
      "    It seems there was an issue sending the email. You can copy the email below and send it from your own email account.\n",
      "    \n",
      "    ---\n",
      "    \n",
      "    **Subject:** Introduction and Application for LLM Engineer Position\n",
      "    \n",
      "    Dear [Hiring Manager's Name],\n",
      "    \n",
      "    I hope this message finds you well. My name is Benny, and I am excited to introduce myself as a candidate for the LLM Engineer position at [Company Name]. With a strong background in AI agents and large language model development, I am passionate about pushing the boundaries of natural language understanding and generation.\n",
      "    \n",
      "    I am particularly drawn to [Company Name] because of its innovative approach to AI solutions and its commitment to advancing intelligent systems. I am eager to contribute my skills in developing and fine-tuning large language models, designing autonomous AI agents, and improving conversational capabilities to support your team’s objectives.\n",
      "    \n",
      "    Thank you very much for considering my application. I would welcome the opportunity to discuss how my experience and skills can contribute to the success of your projects.\n",
      "    \n",
      "    Best regards,  \n",
      "    Benny  \n",
      "    [Your LinkedIn Profile or Website]  \n",
      "    [Your Contact Information]\n",
      "    \n",
      "    ---\n",
      "    \n",
      "    Feel free to fill in the placeholders and make any adjustments as needed!\n",
      "- 9 new item(s)\n",
      "- 3 raw response(s)\n",
      "- 0 input guardrail result(s)\n",
      "- 0 output guardrail result(s)\n",
      "(See `RunResult` for more details)\n"
     ]
    }
   ],
   "source": [
    "print(result)"
   ]
  },
  {
   "cell_type": "code",
   "execution_count": 47,
   "metadata": {},
   "outputs": [],
   "source": [
    "subject_instructions = \"You are an email subject writer. \\\n",
    "You receive a message and write a subject line that is likely to get a response. \\\n",
    "Once you’re done, hand off control to the HTML email converter.\"\n",
    "\n",
    "subject_writer = Agent(\n",
    "    name=\"Email Subject Writer\",\n",
    "    instructions=subject_instructions,\n",
    "    model=\"gpt-4.1-nano\"\n",
    ")\n",
    "subject_tool = subject_writer.as_tool(tool_name=\"subject_writer\", tool_description=\"Write a subject for a introduction email\")"
   ]
  },
  {
   "cell_type": "code",
   "execution_count": 48,
   "metadata": {},
   "outputs": [],
   "source": [
    "html_instructions = \"You are an HTML email body converter. \\\n",
    "You receive a subject and message text and convert them into a polished HTML email body. \\\n",
    "You are the last agent in the chain, so return the final email output to the user.\"\n",
    "\n",
    "html_converter = Agent(\n",
    "    name=\"HTML Email Converter\",\n",
    "    instructions=html_instructions,\n",
    "    model=\"gpt-4.1-nano\"\n",
    ")\n",
    "html_tool = html_converter.as_tool(tool_name=\"html_converter\",tool_description=\"Convert a text email body to an HTML email body\")"
   ]
  },
  {
   "cell_type": "code",
   "execution_count": 49,
   "metadata": {},
   "outputs": [],
   "source": [
    "@function_tool\n",
    "def send_html_email(subject: str, html_body: str) -> Dict[str, str]:\n",
    "    \"\"\" Send out an email with the given subject and HTML body to all sales prospects \"\"\"\n",
    "    sg = sendgrid.SendGridAPIClient(api_key=os.environ.get('SENDGRID_API_KEY'))\n",
    "    from_email = Email(\"benny.guan97@gmail.com\")  \n",
    "    to_email = To(\"benny.guan97@gmail.com\")  \n",
    "    content = Content(\"text/html\", html_body)\n",
    "    mail = Mail(from_email, to_email, subject, content).get()\n",
    "    response = sg.client.mail.send.post(request_body=mail)\n",
    "    return {\"status\": \"success\"}"
   ]
  },
  {
   "cell_type": "code",
   "execution_count": 50,
   "metadata": {},
   "outputs": [],
   "source": [
    "tools = [subject_tool, html_tool, send_html_email]"
   ]
  },
  {
   "cell_type": "code",
   "execution_count": 51,
   "metadata": {},
   "outputs": [
    {
     "data": {
      "text/plain": [
       "[FunctionTool(name='subject_writer', description='Write a subject for a introduction email', params_json_schema={'properties': {'input': {'title': 'Input', 'type': 'string'}}, 'required': ['input'], 'title': 'subject_writer_args', 'type': 'object', 'additionalProperties': False}, on_invoke_tool=<function function_tool.<locals>._create_function_tool.<locals>._on_invoke_tool at 0x000001C6D7CF7C40>, strict_json_schema=True),\n",
       " FunctionTool(name='html_converter', description='Convert a text email body to an HTML email body', params_json_schema={'properties': {'input': {'title': 'Input', 'type': 'string'}}, 'required': ['input'], 'title': 'html_converter_args', 'type': 'object', 'additionalProperties': False}, on_invoke_tool=<function function_tool.<locals>._create_function_tool.<locals>._on_invoke_tool at 0x000001C6D5B149A0>, strict_json_schema=True),\n",
       " FunctionTool(name='send_html_email', description='Send out an email with the given subject and HTML body to all sales prospects', params_json_schema={'properties': {'subject': {'title': 'Subject', 'type': 'string'}, 'html_body': {'title': 'Html Body', 'type': 'string'}}, 'required': ['subject', 'html_body'], 'title': 'send_html_email_args', 'type': 'object', 'additionalProperties': False}, on_invoke_tool=<function function_tool.<locals>._create_function_tool.<locals>._on_invoke_tool at 0x000001C6D7CF7100>, strict_json_schema=True)]"
      ]
     },
     "execution_count": 51,
     "metadata": {},
     "output_type": "execute_result"
    }
   ],
   "source": [
    "tools"
   ]
  },
  {
   "cell_type": "code",
   "execution_count": 52,
   "metadata": {},
   "outputs": [],
   "source": [
    "instructions =\"You are an email formatter and sender. You receive the body of an email to be sent. \\\n",
    "You first use the subject_writer tool to write a subject for the email, then use the html_converter tool to convert the body to HTML. \\\n",
    "Finally, you use the send_html_email tool to send the email with the subject and HTML body.\"\n",
    "\n",
    "\n",
    "emailer_agent = Agent(\n",
    "    name=\"Email Manager\",\n",
    "    instructions=instructions,\n",
    "    tools=tools,\n",
    "    model=\"gpt-4o-mini\",\n",
    "    handoff_description=\"Convert an email to HTML and send it\")\n"
   ]
  },
  {
   "cell_type": "code",
   "execution_count": 53,
   "metadata": {},
   "outputs": [
    {
     "name": "stdout",
     "output_type": "stream",
     "text": [
      "[FunctionTool(name='writer_agent1', description='Write a introduction email', params_json_schema={'properties': {'input': {'title': 'Input', 'type': 'string'}}, 'required': ['input'], 'title': 'writer_agent1_args', 'type': 'object', 'additionalProperties': False}, on_invoke_tool=<function function_tool.<locals>._create_function_tool.<locals>._on_invoke_tool at 0x000001C6D7C2B9C0>, strict_json_schema=True), FunctionTool(name='writer_agent2', description='Write a introduction email', params_json_schema={'properties': {'input': {'title': 'Input', 'type': 'string'}}, 'required': ['input'], 'title': 'writer_agent2_args', 'type': 'object', 'additionalProperties': False}, on_invoke_tool=<function function_tool.<locals>._create_function_tool.<locals>._on_invoke_tool at 0x000001C6D7CF6CA0>, strict_json_schema=True), FunctionTool(name='writer_agent3', description='Write a introduction email', params_json_schema={'properties': {'input': {'title': 'Input', 'type': 'string'}}, 'required': ['input'], 'title': 'writer_agent3_args', 'type': 'object', 'additionalProperties': False}, on_invoke_tool=<function function_tool.<locals>._create_function_tool.<locals>._on_invoke_tool at 0x000001C6D7CF6700>, strict_json_schema=True)]\n",
      "[Agent(name='Email Manager', instructions='You are an email formatter and sender. You receive the body of an email to be sent. You first use the subject_writer tool to write a subject for the email, then use the html_converter tool to convert the body to HTML. Finally, you use the send_html_email tool to send the email with the subject and HTML body.', handoff_description='Convert an email to HTML and send it', handoffs=[], model='gpt-4o-mini', model_settings=ModelSettings(temperature=None, top_p=None, frequency_penalty=None, presence_penalty=None, tool_choice=None, parallel_tool_calls=None, truncation=None, max_tokens=None, reasoning=None, metadata=None, store=None, include_usage=None, extra_query=None, extra_body=None, extra_headers=None), tools=[FunctionTool(name='subject_writer', description='Write a subject for a introduction email', params_json_schema={'properties': {'input': {'title': 'Input', 'type': 'string'}}, 'required': ['input'], 'title': 'subject_writer_args', 'type': 'object', 'additionalProperties': False}, on_invoke_tool=<function function_tool.<locals>._create_function_tool.<locals>._on_invoke_tool at 0x000001C6D7CF7C40>, strict_json_schema=True), FunctionTool(name='html_converter', description='Convert a text email body to an HTML email body', params_json_schema={'properties': {'input': {'title': 'Input', 'type': 'string'}}, 'required': ['input'], 'title': 'html_converter_args', 'type': 'object', 'additionalProperties': False}, on_invoke_tool=<function function_tool.<locals>._create_function_tool.<locals>._on_invoke_tool at 0x000001C6D5B149A0>, strict_json_schema=True), FunctionTool(name='send_html_email', description='Send out an email with the given subject and HTML body to all sales prospects', params_json_schema={'properties': {'subject': {'title': 'Subject', 'type': 'string'}, 'html_body': {'title': 'Html Body', 'type': 'string'}}, 'required': ['subject', 'html_body'], 'title': 'send_html_email_args', 'type': 'object', 'additionalProperties': False}, on_invoke_tool=<function function_tool.<locals>._create_function_tool.<locals>._on_invoke_tool at 0x000001C6D7CF7100>, strict_json_schema=True)], mcp_servers=[], mcp_config={}, input_guardrails=[], output_guardrails=[], output_type=None, hooks=None, tool_use_behavior='run_llm_again', reset_tool_choice=True)]\n"
     ]
    }
   ],
   "source": [
    "tools = [tool1, tool2, tool3]\n",
    "handoffs = [emailer_agent]\n",
    "print(tools)\n",
    "print(handoffs)"
   ]
  },
  {
   "cell_type": "code",
   "execution_count": 54,
   "metadata": {},
   "outputs": [],
   "source": [
    "# 🎯 Writer Manager Instructions\n",
    "writer_manager_instructions = \"You are a writer manager helping job seekers craft great introduction emails. \\\n",
    "You never write emails yourself; you always use the tools provided. \\\n",
    "You try all 3 writer_agent tools at least once before choosing the best one. \\\n",
    "You can use the tools multiple times if you're not satisfied with the results from the first try. \\\n",
    "You select the single best introduction email using your judgment of what will be most effective. \\\n",
    "After selecting the email, you hand off to the Email Sender agent to format and send the email.\"\n",
    "\n",
    "#  Writer Manager Agent\n",
    "writer_manager = Agent(\n",
    "    name=\"Writer Manager\",\n",
    "    instructions=writer_manager_instructions,\n",
    "    tools=tools,       # assuming tools = [writer_agent1, writer_agent2, writer_agent3]\n",
    "    handoffs=handoffs, # assuming handoffs = [email_sender]\n",
    "    model=\"gpt-4.1-nano\"\n",
    ")\n",
    "\n",
    "email_sender_instructions = \"You are an email sender. \\\n",
    "You receive a finalized introduction email from the writer manager and your job is to format it nicely and send it using the send_email tool.\"\n",
    "\n",
    "\n",
    "\n",
    "message = \"Write an introduction email to a hiring manager on behalf of Benny, a machine learning engineer.\"\n",
    "\n",
    "with trace(\"Automated Intro Agent Flow\"):\n",
    "    result = await Runner.run(writer_manager, message)\n"
   ]
  },
  {
   "cell_type": "code",
   "execution_count": null,
   "metadata": {},
   "outputs": [],
   "source": []
  }
 ],
 "metadata": {
  "kernelspec": {
   "display_name": ".venv",
   "language": "python",
   "name": "python3"
  },
  "language_info": {
   "codemirror_mode": {
    "name": "ipython",
    "version": 3
   },
   "file_extension": ".py",
   "mimetype": "text/x-python",
   "name": "python",
   "nbconvert_exporter": "python",
   "pygments_lexer": "ipython3",
   "version": "3.12.7"
  }
 },
 "nbformat": 4,
 "nbformat_minor": 2
}
